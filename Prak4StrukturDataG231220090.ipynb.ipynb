{
  "nbformat": 4,
  "nbformat_minor": 0,
  "metadata": {
    "colab": {
      "provenance": [],
      "authorship_tag": "ABX9TyMIJ8CdJy0LB3qo2hP8eWKr",
      "include_colab_link": true
    },
    "kernelspec": {
      "name": "python3",
      "display_name": "Python 3"
    },
    "language_info": {
      "name": "python"
    }
  },
  "cells": [
    {
      "cell_type": "markdown",
      "metadata": {
        "id": "view-in-github",
        "colab_type": "text"
      },
      "source": [
        "<a href=\"https://colab.research.google.com/github/SadnaPutriYuliarti/Prak-StrukturData-1-8-G_231_22_0090/blob/main/Prak4StrukturDataG231220090.ipynb.ipynb\" target=\"_parent\"><img src=\"https://colab.research.google.com/assets/colab-badge.svg\" alt=\"Open In Colab\"/></a>"
      ]
    },
    {
      "cell_type": "code",
      "execution_count": null,
      "metadata": {
        "id": "Uy5il8y5wMLD",
        "outputId": "94dee936-c008-45c6-fb07-57b3a227c8d1",
        "colab": {
          "base_uri": "https://localhost:8080/"
        }
      },
      "outputs": [
        {
          "output_type": "stream",
          "name": "stdout",
          "text": [
            "\"hello Nona\"\n",
            "bukan pangram\n"
          ]
        }
      ],
      "source": [
        "mark = [False] * 26\n",
        "\n",
        "\n",
        "def isPangram(s):\n",
        "    for char in s:\n",
        "\n",
        "        if 'a' <= char <= 'z':\n",
        "            mark[ord(char) - ord('a')] = True\n",
        "        elif 'A' <= char <= 'Z':\n",
        "            mark[ord(char) - ord('A')] = False\n",
        "    for i in range(26):\n",
        "\n",
        "        if mark[i] == False:\n",
        "            return False\n",
        "\n",
        "\n",
        "    return True\n",
        "input_string = \"hello Nona\"\n",
        "# Memeriksa apakah string adalah pangram atau bukan\n",
        "if isPangram(input_string):\n",
        "    print('\"' + input_string + '\"')\n",
        "    print(\"adalah pangram\")\n",
        "else:\n",
        "    print('\"' + input_string + '\"')\n",
        "    print(\"bukan pangram\")"
      ]
    }
  ]
}